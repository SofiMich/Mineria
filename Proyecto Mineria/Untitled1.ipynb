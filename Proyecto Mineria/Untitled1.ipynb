{
 "cells": [
  {
   "cell_type": "code",
   "execution_count": null,
   "id": "0dc1e099-6735-4342-9940-6c0a1640177c",
   "metadata": {},
   "outputs": [],
   "source": [
    "#importar paqueterías \n",
    "import pandas as pd\n",
    "\n",
    "#from paqueteria.calculos_mineria import *\n",
    "from paqueteria.mineria_05_29 import *\n"
   ]
  }
 ],
 "metadata": {
  "kernelspec": {
   "display_name": "Python 3 (ipykernel)",
   "language": "python",
   "name": "python3"
  },
  "language_info": {
   "codemirror_mode": {
    "name": "ipython",
    "version": 3
   },
   "file_extension": ".py",
   "mimetype": "text/x-python",
   "name": "python",
   "nbconvert_exporter": "python",
   "pygments_lexer": "ipython3",
   "version": "3.9.7"
  }
 },
 "nbformat": 4,
 "nbformat_minor": 5
}
